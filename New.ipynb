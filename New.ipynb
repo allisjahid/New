{
  "nbformat": 4,
  "nbformat_minor": 0,
  "metadata": {
    "colab": {
      "provenance": []
    },
    "kernelspec": {
      "name": "python3",
      "display_name": "Python 3"
    },
    "language_info": {
      "name": "python"
    }
  },
  "cells": [
    {
      "cell_type": "markdown",
      "source": [
        "\n",
        "**Task 1: Creating a neural network**"
      ],
      "metadata": {
        "id": "H9UWnArUpex7"
      }
    },
    {
      "cell_type": "code",
      "source": [
        "import tensorflow as tf\n",
        "from tensorflow.keras import layers, models\n",
        "from tensorflow.keras.datasets import mnist\n",
        "from tensorflow.keras.utils import to_categorical"
      ],
      "metadata": {
        "id": "FEwugIwEd1qr"
      },
      "execution_count": 22,
      "outputs": []
    },
    {
      "cell_type": "code",
      "source": [
        "import matplotlib.pyplot as plt\n",
        "image_data = tf.keras.datasets.fashion_mnist\n",
        "plt.imshow(train_images[0])\n",
        "train_labels[0]"
      ],
      "metadata": {
        "colab": {
          "base_uri": "https://localhost:8080/",
          "height": 448
        },
        "id": "de2FCJnkepRI",
        "outputId": "06bccea9-a521-4f56-d02b-99c3c23531b8"
      },
      "execution_count": 34,
      "outputs": [
        {
          "output_type": "execute_result",
          "data": {
            "text/plain": [
              "array([0., 0., 0., 0., 0., 1., 0., 0., 0., 0.], dtype=float32)"
            ]
          },
          "metadata": {},
          "execution_count": 34
        },
        {
          "output_type": "display_data",
          "data": {
            "text/plain": [
              "<Figure size 640x480 with 1 Axes>"
            ],
            "image/png": "[encoded data removed]"
          },
          "metadata": {}
        }
      ]
    },
    {
      "cell_type": "code",
      "source": [
        "# load the MNIST dataset\n",
        "(train_images, train_labels), (test_images, test_labels) = mnist.load_data()\n",
        "train_images = train_images.reshape((60000, 28, 28, 1)).astype('float32') / 255\n",
        "test_images = test_images.reshape((10000, 28, 28, 1)).astype('float32') / 255\n",
        "\n",
        "train_labels = to_categorical(train_labels)\n",
        "test_labels = to_categorical(test_labels)"
      ],
      "metadata": {
        "id": "55ftscaeeE_N"
      },
      "execution_count": 23,
      "outputs": []
    },
    {
      "cell_type": "code",
      "source": [
        "# neural network model\n",
        "model = models.Sequential()\n",
        "model.add(layers.Conv2D(32, (3, 3), activation='relu', input_shape=(28, 28, 1)))\n",
        "model.add(layers.MaxPooling2D((2, 2)))\n",
        "model.add(layers.Conv2D(64, (3, 3), activation='relu'))\n",
        "model.add(layers.MaxPooling2D((2, 2)))\n",
        "model.add(layers.Conv2D(64, (3, 3), activation='relu'))\n",
        "model.add(layers.Flatten())\n",
        "model.add(layers.Dense(64, activation='relu'))\n",
        "model.add(layers.Dense(10, activation='softmax'))"
      ],
      "metadata": {
        "id": "xdhTat2jeHl_"
      },
      "execution_count": 24,
      "outputs": []
    },
    {
      "cell_type": "code",
      "source": [
        "# compile the model\n",
        "model.compile(optimizer='adam',\n",
        "              loss='categorical_crossentropy',\n",
        "              metrics=['accuracy'])\n",
        "\n",
        "# train the model\n",
        "history = model.fit(train_images, train_labels, epochs=5, batch_size=64, validation_data=(test_images, test_labels))\n",
        "\n",
        "# evaluate the model\n",
        "test_loss, test_acc = model.evaluate(test_images, test_labels)\n",
        "\n",
        "# print accuracy and loss metrics\n",
        "print(f'Test Accuracy: {test_acc * 100:.2f}%')\n",
        "print(f'Test Loss: {test_loss:.4f}')\n",
        "\n",
        "# save model for future use\n",
        "model.save('mnist_classifier_model.h5')\n"
      ],
      "metadata": {
        "colab": {
          "base_uri": "https://localhost:8080/"
        },
        "id": "jSmCUzZceTp5",
        "outputId": "f5889460-3e50-4ddb-a53d-58675daa2edf"
      },
      "execution_count": 25,
      "outputs": [
        {
          "output_type": "stream",
          "name": "stdout",
          "text": [
            "Epoch 1/5\n",
            "938/938 [==============================] - 53s 55ms/step - loss: 0.1841 - accuracy: 0.9446 - val_loss: 0.0484 - val_accuracy: 0.9838\n",
            "Epoch 2/5\n",
            "938/938 [==============================] - 68s 73ms/step - loss: 0.0503 - accuracy: 0.9848 - val_loss: 0.0349 - val_accuracy: 0.9884\n",
            "Epoch 3/5\n",
            "938/938 [==============================] - 51s 54ms/step - loss: 0.0356 - accuracy: 0.9887 - val_loss: 0.0355 - val_accuracy: 0.9880\n",
            "Epoch 4/5\n",
            "938/938 [==============================] - 55s 59ms/step - loss: 0.0292 - accuracy: 0.9905 - val_loss: 0.0265 - val_accuracy: 0.9912\n",
            "Epoch 5/5\n",
            "938/938 [==============================] - 51s 55ms/step - loss: 0.0218 - accuracy: 0.9931 - val_loss: 0.0309 - val_accuracy: 0.9894\n",
            "313/313 [==============================] - 3s 8ms/step - loss: 0.0309 - accuracy: 0.9894\n",
            "Test Accuracy: 98.94%\n",
            "Test Loss: 0.0309\n"
          ]
        },
        {
          "output_type": "stream",
          "name": "stderr",
          "text": [
            "/usr/local/lib/python3.10/dist-packages/keras/src/engine/training.py:3079: UserWarning: You are saving your model as an HDF5 file via `model.save()`. This file format is considered legacy. We recommend using instead the native Keras format, e.g. `model.save('my_model.keras')`.\n",
            "  saving_api.save_model(\n"
          ]
        }
      ]
    },
    {
      "cell_type": "markdown",
      "source": [
        "**Options chosen cause**\n",
        "\n",
        "I chose to use a CNN because CNNs are well-suited for image classification tasks.\n",
        "\n",
        "I used the Adam optimizer because it is a popular and effective optimizer for training neural networks. Adam is an adaptive learning rate optimizer, which means that it adjusts the learning rate for each parameter during training.\n",
        "\n",
        "I used the categorical crossentropy loss function because it is appropriate for classification tasks.\n",
        "\n",
        "I trained the model for 5 epochs because that was sufficient to achieve good results on the MNIST dataset.\n",
        "\n",
        "I used a batch size of 64 because that is a common batch size for training neural networks.\n",
        "\n",
        "\n",
        "\n",
        "Overall, the model is well-configured and trained, and it achieved very good results on the MNIST dataset."
      ],
      "metadata": {
        "id": "JE6tm45HeX9C"
      }
    },
    {
      "cell_type": "markdown",
      "source": [
        "\n",
        "**Task 2: Working with databases **"
      ],
      "metadata": {
        "id": "Vf7UIxQ0pZlk"
      }
    },
    {
      "cell_type": "code",
      "source": [
        "import sqlite3\n",
        "\n",
        "# Connect to the SQLite database (or create a new one if it doesn't exist)\n",
        "conn = sqlite3.connect('hello.db')\n",
        "\n",
        "# Create a cursor object to execute SQL commands\n",
        "cursor = conn.cursor()\n",
        "\n",
        "# Create a table to store user information\n",
        "cursor.execute('''\n",
        "    CREATE TABLE IF NOT EXISTS users (\n",
        "        id INTEGER PRIMARY KEY,\n",
        "        username TEXT NOT NULL,\n",
        "        email TEXT NOT NULL,\n",
        "        age INTEGER\n",
        "    )\n",
        "''')\n",
        "\n",
        "# Commit the changes and close the connection\n",
        "conn.commit()\n",
        "conn.close()\n",
        "\n",
        "# Functions for database interactions\n",
        "def add_user(username, email, age):\n",
        "    conn = sqlite3.connect('user_database.db')\n",
        "    cursor = conn.cursor()\n",
        "    cursor.execute('INSERT INTO users (username, email, age) VALUES (?, ?, ?)', (username, email, age))\n",
        "    conn.commit()\n",
        "    conn.close()\n",
        "\n",
        "def retrieve_users():\n",
        "    conn = sqlite3.connect('user_database.db')\n",
        "    cursor = conn.cursor()\n",
        "    cursor.execute('SELECT * FROM users')\n",
        "    users = cursor.fetchall()\n",
        "    conn.close()\n",
        "    return users\n",
        "\n",
        "def update_user(user_id, new_age):\n",
        "    conn = sqlite3.connect('user_database.db')\n",
        "    cursor = conn.cursor()\n",
        "    cursor.execute('UPDATE users SET age = ? WHERE id = ?', (new_age, user_id))\n",
        "    conn.commit()\n",
        "    conn.close()\n",
        "\n",
        "def delete_user(user_id):\n",
        "    conn = sqlite3.connect('user_database.db')\n",
        "    cursor = conn.cursor()\n",
        "    cursor.execute('DELETE FROM users WHERE id = ?', (user_id,))\n",
        "    conn.commit()\n",
        "    conn.close()\n",
        "\n",
        "# Example usage\n",
        "add_user('jahidul_islam', 'allis.jahid@gmail.com', 25)\n",
        "add_user('jahid_hasan', 'hasanjahid@gmail.com', 30)\n",
        "\n",
        "print(\"Users in the database:\")\n",
        "print(retrieve_users())\n",
        "\n",
        "update_user(1, 26)\n",
        "\n",
        "print(\"Users after updating age:\")\n",
        "print(retrieve_users())\n",
        "\n",
        "delete_user(2)\n",
        "\n",
        "print(\"Users after deleting user with id 2:\")\n",
        "print(retrieve_users())\n"
      ],
      "metadata": {
        "id": "pJ7mrym7b6uB",
        "colab": {
          "base_uri": "https://localhost:8080/"
        },
        "outputId": "225abcc9-6499-4223-a5f3-c41ae8292fee"
      },
      "execution_count": 20,
      "outputs": [
        {
          "output_type": "stream",
          "name": "stdout",
          "text": [
            "Users in the database:\n",
            "[(1, 'john_doe', 'john.doe@example.com', 26), (3, 'allis_jahid', 'allis.jahid@gmail.com', 30), (4, 'jahidul_islam', 'allis.jahid@gmail.com', 25), (5, 'allis_jahid', 'allis.jahid@gmail.com', 30), (6, 'john_doe', 'john.doe@example.com', 25), (7, 'jane_doe', 'jane.doe@example.com', 30), (8, 'john_doe', 'john.doe@example.com', 25), (9, 'jane_doe', 'jane.doe@example.com', 30), (10, 'jahidul_islam', 'allis.jahid@gmail.com', 25), (11, 'jahid_hasan', 'hasanjahid@gmail.com', 30)]\n",
            "Users after updating age:\n",
            "[(1, 'john_doe', 'john.doe@example.com', 26), (3, 'allis_jahid', 'allis.jahid@gmail.com', 30), (4, 'jahidul_islam', 'allis.jahid@gmail.com', 25), (5, 'allis_jahid', 'allis.jahid@gmail.com', 30), (6, 'john_doe', 'john.doe@example.com', 25), (7, 'jane_doe', 'jane.doe@example.com', 30), (8, 'john_doe', 'john.doe@example.com', 25), (9, 'jane_doe', 'jane.doe@example.com', 30), (10, 'jahidul_islam', 'allis.jahid@gmail.com', 25), (11, 'jahid_hasan', 'hasanjahid@gmail.com', 30)]\n",
            "Users after deleting user with id 2:\n",
            "[(1, 'john_doe', 'john.doe@example.com', 26), (3, 'allis_jahid', 'allis.jahid@gmail.com', 30), (4, 'jahidul_islam', 'allis.jahid@gmail.com', 25), (5, 'allis_jahid', 'allis.jahid@gmail.com', 30), (6, 'john_doe', 'john.doe@example.com', 25), (7, 'jane_doe', 'jane.doe@example.com', 30), (8, 'john_doe', 'john.doe@example.com', 25), (9, 'jane_doe', 'jane.doe@example.com', 30), (10, 'jahidul_islam', 'allis.jahid@gmail.com', 25), (11, 'jahid_hasan', 'hasanjahid@gmail.com', 30)]\n"
          ]
        }
      ]
    },
    {
      "cell_type": "markdown",
      "source": [
        "SQLite is chosen as it's a lightweight, serverless database that's easy to set up and use for small to medium-sized projects.\n",
        "\n",
        "\n",
        "Usage examples, how to add users, retrieve all users, update a user's age, and delete a user."
      ],
      "metadata": {
        "id": "7o80s_urq_sB"
      }
    },
    {
      "cell_type": "markdown",
      "source": [],
      "metadata": {
        "id": "6w6NrruprD1T"
      }
    },
    {
      "cell_type": "markdown",
      "source": [
        "**Task 3: Integration with a Google API**\n",
        "\n",
        "Pick Google Sheets"
      ],
      "metadata": {
        "id": "BtJqF8QCqIoZ"
      }
    },
    {
      "cell_type": "code",
      "source": [
        "from google.colab import auth\n",
        "auth.authenticate_user()\n",
        ""
      ],
      "metadata": {
        "id": "1eBjNzEagUp8"
      },
      "execution_count": 26,
      "outputs": []
    },
    {
      "cell_type": "code",
      "source": [
        "\n",
        "import gspread\n",
        "from google.auth import default\n",
        "creds, _ = default()\n",
        "\n",
        "gc = gspread.authorize(creds)\n",
        "\n",
        "\n",
        "\n",
        "worksheet = gc.open_by_key('12iFfBs18Q8SUZksYrE11MOHM8oGle4nxblQE7U-kxTQ').sheet1\n",
        "\n",
        "\n",
        "\n",
        "# get_all_values gives a list of rows.\n",
        "rows = worksheet.get_all_values()\n",
        "print(rows)\n",
        "\n"
      ],
      "metadata": {
        "colab": {
          "base_uri": "https://localhost:8080/"
        },
        "id": "rK5mzMvthvES",
        "outputId": "b1de2fdc-36c1-4a82-dda2-5b8d43b7d471"
      },
      "execution_count": 31,
      "outputs": [
        {
          "output_type": "stream",
          "name": "stdout",
          "text": [
            "[['NAME', 'AGE', 'EMAIL'], ['', '', ''], ['Jahidul Islam', '25', 'allis.jahid@gmail.com'], ['Jahid Hasan', '30', 'hasanjahid@gmail.com']]\n"
          ]
        }
      ]
    },
    {
      "cell_type": "code",
      "source": [],
      "metadata": {
        "id": "NGGntsiZnbVK"
      },
      "execution_count": null,
      "outputs": []
    }
  ]
}